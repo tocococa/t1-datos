{
 "cells": [
  {
   "cell_type": "code",
   "execution_count": 1,
   "metadata": {},
   "outputs": [],
   "source": [
    "import pandas as pd\n",
    "import numpy as np\n",
    "import os\n",
    "from random import randint\n",
    "from tqdm import tqdm\n",
    "#import tensorflow as tf\n",
    "#import tensorflow.experimental.numpy as tnp\n",
    "import pickle\n",
    "import random\n",
    "from typing import Callable\n",
    "\n",
    "#conda deactivate\n",
    "#conda activate tf"
   ]
  },
  {
   "cell_type": "code",
   "execution_count": 2,
   "metadata": {},
   "outputs": [],
   "source": [
    "#tnp.experimental_enable_numpy_behavior()"
   ]
  },
  {
   "cell_type": "code",
   "execution_count": 4,
   "metadata": {},
   "outputs": [],
   "source": [
    "tweets_pd = pd.read_csv('./tweets_2022_abril_junio.csv')"
   ]
  },
  {
   "cell_type": "code",
   "execution_count": null,
   "metadata": {},
   "outputs": [],
   "source": [
    "def filter_tweets(data: str) -> str:\n",
    "    punctuations = {\".\",\",\",\"!\",\"'\",\":\"}\n",
    "    if data[0:2] == \"RT\":  # eliminamos el RT y el usuario asociado\n",
    "        try:\n",
    "            data = data.split(\":\")[1]\n",
    "        except IndexError:\n",
    "            data = data\n",
    "    for p in punctuations:\n",
    "        data = data.replace(p,\"\")\n",
    "    data = data.encode('ascii', 'ignore').decode('ascii')\n",
    "    data = data.lower()\n",
    "    if 'https' in data or len(data) < 15:\n",
    "        data = pd.NA\n",
    "    return data\n",
    "\n",
    "tweets_pd[\"text\"] = tweets_pd[\"text\"].apply(filter_tweets)"
   ]
  },
  {
   "cell_type": "code",
   "execution_count": null,
   "metadata": {},
   "outputs": [],
   "source": [
    "tweets_pd.dropna(inplace=True)\n",
    "tweets_pd = tweets_pd[[\"screen_name\", \"text\"]].reset_index(drop=True)"
   ]
  },
  {
   "cell_type": "code",
   "execution_count": null,
   "metadata": {},
   "outputs": [
    {
     "data": {
      "text/plain": [
       "3153403"
      ]
     },
     "execution_count": 16,
     "metadata": {},
     "output_type": "execute_result"
    }
   ],
   "source": [
    "len(tweets_pd)"
   ]
  },
  {
   "cell_type": "code",
   "execution_count": null,
   "metadata": {},
   "outputs": [],
   "source": [
    "user_tweet_count = tweets_pd.groupby(\"screen_name\").count().reset_index()"
   ]
  },
  {
   "cell_type": "code",
   "execution_count": null,
   "metadata": {},
   "outputs": [],
   "source": [
    "# drop users with less than 20 tweets from tweets_pd\n",
    "tweets_pd = tweets_pd[tweets_pd[\"screen_name\"].isin(user_tweet_count[user_tweet_count[\"text\"] >= 20][\"screen_name\"])].reset_index(drop=True)"
   ]
  },
  {
   "cell_type": "code",
   "execution_count": null,
   "metadata": {},
   "outputs": [],
   "source": [
    "# count number of tweets per user\n",
    "user_tweet_count = tweets_pd.groupby(\"screen_name\").count().reset_index()\n",
    "# rename tweet count column\n",
    "user_tweet_count.rename(columns={\"text\": \"tweet_count\"}, inplace=True)\n",
    "\n",
    "with open(\"users.pkl\", \"wb\") as f:\n",
    "    pickle.dump(user_tweet_count, f)"
   ]
  },
  {
   "cell_type": "code",
   "execution_count": null,
   "metadata": {},
   "outputs": [
    {
     "name": "stderr",
     "output_type": "stream",
     "text": [
      "100%|██████████| 500000/500000 [00:19<00:00, 25080.31it/s]\n",
      "100%|██████████| 500000/500000 [00:18<00:00, 26451.99it/s]\n",
      "100%|██████████| 500000/500000 [00:21<00:00, 23391.63it/s]\n",
      "100%|██████████| 500000/500000 [00:19<00:00, 26282.16it/s]\n",
      "100%|██████████| 500000/500000 [00:19<00:00, 25660.23it/s]\n",
      "100%|██████████| 500000/500000 [00:19<00:00, 25062.45it/s]\n",
      "100%|██████████| 153403/153403 [00:04<00:00, 30687.70it/s]\n"
     ]
    }
   ],
   "source": [
    "tweet_shingles = {}\n",
    "k = 4 # shingle size\n",
    "s = 0.5 # similarity threshold (0-1)\n",
    "\n",
    "BSIZE = 500000\n",
    "\n",
    "counter = 0\n",
    "for i in range(0, len(tweets_pd), BSIZE):\n",
    "    temp = tweets_pd.iloc[i:i+BSIZE].copy()\n",
    "    temp[\"shingles\"] = [set([tweet[i:i+k] for i in range(len(tweet) - k + 1)]) for tweet in tqdm(temp[\"text\"])]\n",
    "    temp = temp[[\"screen_name\", \"shingles\"]].reset_index(drop=True)\n",
    "    with open(f\"./shingle_batch_{counter}.pkl\", \"wb\") as f:\n",
    "        pickle.dump(temp, f)\n",
    "    counter += 1\n",
    "    del temp"
   ]
  },
  {
   "cell_type": "code",
   "execution_count": null,
   "metadata": {},
   "outputs": [
    {
     "name": "stderr",
     "output_type": "stream",
     "text": [
      "100%|██████████| 7/7 [02:34<00:00, 22.05s/it]\n"
     ]
    }
   ],
   "source": [
    "shingles = set()\n",
    "\n",
    "for i in tqdm(range(0, 7)):\n",
    "    with open(f\"shingle_batch_{i}.pkl\", \"rb\") as f:\n",
    "        temp = pickle.load(f)\n",
    "    shingles = shingles.union(set.union(*temp[\"shingles\"]))"
   ]
  },
  {
   "cell_type": "code",
   "execution_count": null,
   "metadata": {},
   "outputs": [
    {
     "name": "stdout",
     "output_type": "stream",
     "text": [
      "264710\n"
     ]
    }
   ],
   "source": [
    "print(len(shingles))"
   ]
  },
  {
   "cell_type": "code",
   "execution_count": null,
   "metadata": {},
   "outputs": [],
   "source": [
    "with open(f\"./shingles.pkl\", \"wb\") as f:\n",
    "    pickle.dump(shingles, f)"
   ]
  },
  {
   "cell_type": "code",
   "execution_count": 2,
   "metadata": {},
   "outputs": [],
   "source": [
    "SHINGLES = 264710\n",
    "TWEETS = 3153403"
   ]
  },
  {
   "cell_type": "code",
   "execution_count": 5,
   "metadata": {},
   "outputs": [],
   "source": [
    "with open(f\"./shingles.pkl\", \"rb\") as f:\n",
    "    temp = pickle.load(f)"
   ]
  },
  {
   "cell_type": "code",
   "execution_count": 3,
   "metadata": {},
   "outputs": [],
   "source": [
    "def jaccard_similarity(s1: set, s2: set) -> float:\n",
    "    inetersection = s1.intersection(s2)\n",
    "    union = s1.union(s2)\n",
    "    return len(inetersection) / len(union)"
   ]
  },
  {
   "cell_type": "code",
   "execution_count": 4,
   "metadata": {},
   "outputs": [],
   "source": [
    "def crear_hash(a: int, b: int, p: int, n: int) -> Callable:\n",
    "    def f(x: int) -> int:\n",
    "        return ((a * x + b) % p) % n\n",
    "    return f\n",
    "\n",
    "h = []\n",
    "n = SHINGLES\n",
    "p = 20063\n",
    "num_hash = 50\n",
    "for i in range(num_hash):\n",
    "    a = random.randint(1,p-1)\n",
    "    b = random.randint(1,p-1)\n",
    "    h.append(crear_hash(a,b,p,n))"
   ]
  },
  {
   "cell_type": "code",
   "execution_count": 10,
   "metadata": {},
   "outputs": [
    {
     "name": "stderr",
     "output_type": "stream",
     "text": [
      "100%|██████████| 264710/264710 [00:06<00:00, 37952.47it/s]\n"
     ]
    }
   ],
   "source": [
    "# precompute hash values\n",
    "hash_values = {}\n",
    "with open(f\"./shingles.pkl\", \"rb\") as f:\n",
    "    shingles = pickle.load(f)\n",
    "for shingle in tqdm(shingles):\n",
    "    hash_values[shingle] = [h[i](hash(shingle)) for i in range(num_hash)]\n",
    "with open(f\"./hash_values.pkl\", \"wb\") as f:\n",
    "    pickle.dump(hash_values, f)"
   ]
  },
  {
   "cell_type": "code",
   "execution_count": null,
   "metadata": {},
   "outputs": [
    {
     "name": "stdout",
     "output_type": "stream",
     "text": [
      "Couldn't find program: 'echo'\n"
     ]
    }
   ],
   "source": [
    "%%script echo skipping\n",
    "users_auto_similarity = {}\n",
    "\n",
    "with open(\"./users.pickle\", \"rb\") as f:\n",
    "    users = pickle.load(f)\n",
    "\n",
    "with open(f\"./hash_values.pkl\", \"rb\") as f:\n",
    "    hash_values = pickle.load(f)\n",
    "\n",
    "def shignle_to_hash(shingle: str) -> list:\n",
    "    return min([hash_values[shingle][i] for i in range(num_hash)])\n",
    "\n",
    "for user in users[\"screen_name\"]:\n",
    "    print(f\"Computing autosimilarity {user}\")\n",
    "    cols = num_hash\n",
    "    rows = users[users[\"screen_name\"] == user][\"tweet_count\"].values[0]\n",
    "    signature_matrix = np.full((rows, cols), np.inf)\n",
    "    count = 0\n",
    "    for i in tqdm(range(0, 7)):\n",
    "        with open(f\"shingle_batch_{i}.pkl\", \"rb\") as f:\n",
    "            temp = pickle.load(f)\n",
    "        temp = temp[temp[\"screen_name\"] == user].reset_index(drop=True)\n",
    "        for j in range(len(temp)):\n",
    "            for k in range(num_hash):\n",
    "                for shingle in temp[\"shingles\"][j]:\n",
    "                    signature_matrix[count][k] = min(signature_matrix[count][k], hash_values[shingle][k])\n",
    "            count += 1\n",
    "\n",
    "    with open(f\"./signature_matrix_{user}.pkl\", \"wb\") as f:\n",
    "        pickle.dump(signature_matrix, f)\n",
    "    # compute similarity between tweets\n",
    "    similarity_matrix = np.zeros((cols, cols))\n",
    "    for i in range(cols):\n",
    "        for j in range(cols):\n",
    "            similarity_matrix[i][j] = jaccard_similarity(set(signature_matrix[:,i]), set(signature_matrix[:,j]))\n",
    "    # get average similarity\n",
    "    similarity = np.mean(similarity_matrix)\n",
    "    users_auto_similarity[user] = similarity\n",
    "    with open(f\"./users_auto_similarity.pkl\", \"wb\") as f:\n",
    "        pickle.dump(users_auto_similarity, f)"
   ]
  },
  {
   "cell_type": "code",
   "execution_count": 9,
   "metadata": {},
   "outputs": [
    {
     "name": "stderr",
     "output_type": "stream",
     "text": [
      "100%|██████████| 7/7 [54:03<00:00, 463.39s/it]\n"
     ]
    }
   ],
   "source": [
    "users_auto_similarity = {}\n",
    "users_similarity_matrix = {}\n",
    "\n",
    "with open(\"./users.pkl\", \"rb\") as f:\n",
    "    users = pickle.load(f)\n",
    "\n",
    "with open(f\"./hash_values.pkl\", \"rb\") as f:\n",
    "    hash_values = pickle.load(f)\n",
    "\n",
    "def shignle_to_hash(shingle: str) -> list:\n",
    "    return min([hash_values[shingle][i] for i in range(num_hash)])\n",
    "\n",
    "user_prev_count = {}\n",
    "for user in users[\"screen_name\"]:\n",
    "    user_prev_count[user] = 0\n",
    "\n",
    "cols = num_hash\n",
    "for i in tqdm(range(0, 7)):\n",
    "    with open(f\"shingle_batch_{i}.pkl\", \"rb\") as f:\n",
    "        temp = pickle.load(f)\n",
    "    for user in users[\"screen_name\"]:\n",
    "        rows = users[users[\"screen_name\"] == user][\"tweet_count\"].values[0]\n",
    "        #print(f\"Computing autosimilarity {user}, iteration {i}\")\n",
    "        try:\n",
    "            with open(f\"./signature_matrix_{user}.pkl\", \"rb\") as f:\n",
    "                signature_matrix = pickle.load(f)\n",
    "        except FileNotFoundError:\n",
    "            signature_matrix = np.full((rows, cols), np.inf)\n",
    "\n",
    "        count = user_prev_count[user]\n",
    "        temp = temp[temp[\"screen_name\"] == user].reset_index(drop=True)\n",
    "        for j in range(len(temp)):\n",
    "            for k in range(num_hash):\n",
    "                for shingle in temp[\"shingles\"][j]:\n",
    "                    signature_matrix[count][k] = min(signature_matrix[count][k], hash_values[shingle][k])\n",
    "            count += 1\n",
    "        user_prev_count[user] = count\n",
    "\n",
    "        with open(f\"./signature_matrix_{user}.pkl\", \"wb\") as f:\n",
    "            pickle.dump(signature_matrix, f)\n",
    "        # compute similarity between tweets\n",
    "        similarity_matrix = np.zeros((rows, cols))\n",
    "        for ii in range(rows):\n",
    "            for iii in range(cols):\n",
    "                similarity_matrix[ii][iii] = jaccard_similarity(set(signature_matrix[:,ii]), set(signature_matrix[:,iii]))\n",
    "        # get average similarity\n",
    "        similarity = np.mean(similarity_matrix)\n",
    "        users_auto_similarity[user] = similarity\n",
    "        users_similarity_matrix[user] = similarity_matrix"
   ]
  },
  {
   "cell_type": "code",
   "execution_count": 10,
   "metadata": {},
   "outputs": [],
   "source": [
    "with open(\"users_similarity_matrix.pkl\", \"wb\") as f:\n",
    "    pickle.dump(users_similarity_matrix, f)\n",
    "\n",
    "with open(\"users_auto_similarity.pkl\", \"wb\") as f:\n",
    "    pickle.dump(users_auto_similarity, f)"
   ]
  },
  {
   "cell_type": "code",
   "execution_count": 12,
   "metadata": {},
   "outputs": [],
   "source": [
    "users_auto_similarity = pd.DataFrame.from_dict(users_auto_similarity, orient=\"index\", columns=[\"auto_similarity\"])"
   ]
  },
  {
   "cell_type": "code",
   "execution_count": 14,
   "metadata": {},
   "outputs": [
    {
     "data": {
      "text/html": [
       "<div>\n",
       "<style scoped>\n",
       "    .dataframe tbody tr th:only-of-type {\n",
       "        vertical-align: middle;\n",
       "    }\n",
       "\n",
       "    .dataframe tbody tr th {\n",
       "        vertical-align: top;\n",
       "    }\n",
       "\n",
       "    .dataframe thead th {\n",
       "        text-align: right;\n",
       "    }\n",
       "</style>\n",
       "<table border=\"1\" class=\"dataframe\">\n",
       "  <thead>\n",
       "    <tr style=\"text-align: right;\">\n",
       "      <th></th>\n",
       "      <th>auto_similarity</th>\n",
       "    </tr>\n",
       "  </thead>\n",
       "  <tbody>\n",
       "    <tr>\n",
       "      <th>count</th>\n",
       "      <td>31062.000000</td>\n",
       "    </tr>\n",
       "    <tr>\n",
       "      <th>mean</th>\n",
       "      <td>0.999971</td>\n",
       "    </tr>\n",
       "    <tr>\n",
       "      <th>std</th>\n",
       "      <td>0.005038</td>\n",
       "    </tr>\n",
       "    <tr>\n",
       "      <th>min</th>\n",
       "      <td>0.112022</td>\n",
       "    </tr>\n",
       "    <tr>\n",
       "      <th>25%</th>\n",
       "      <td>1.000000</td>\n",
       "    </tr>\n",
       "    <tr>\n",
       "      <th>50%</th>\n",
       "      <td>1.000000</td>\n",
       "    </tr>\n",
       "    <tr>\n",
       "      <th>75%</th>\n",
       "      <td>1.000000</td>\n",
       "    </tr>\n",
       "    <tr>\n",
       "      <th>max</th>\n",
       "      <td>1.000000</td>\n",
       "    </tr>\n",
       "  </tbody>\n",
       "</table>\n",
       "</div>"
      ],
      "text/plain": [
       "       auto_similarity\n",
       "count     31062.000000\n",
       "mean          0.999971\n",
       "std           0.005038\n",
       "min           0.112022\n",
       "25%           1.000000\n",
       "50%           1.000000\n",
       "75%           1.000000\n",
       "max           1.000000"
      ]
     },
     "execution_count": 14,
     "metadata": {},
     "output_type": "execute_result"
    }
   ],
   "source": [
    "users_auto_similarity.describe()"
   ]
  },
  {
   "cell_type": "code",
   "execution_count": null,
   "metadata": {},
   "outputs": [],
   "source": [
    "with open(\"./users.pkl\", \"rb\") as f:\n",
    "    users = pickle.load(f)\n",
    "    \n",
    "cols = num_hash\n",
    "rows = users[users[\"screen_name\"] == user][\"tweet_count\"].values[0]"
   ]
  },
  {
   "cell_type": "code",
   "execution_count": null,
   "metadata": {},
   "outputs": [
    {
     "name": "stderr",
     "output_type": "stream",
     "text": [
      "100%|██████████| 31062/31062 [28:59<00:00, 17.86it/s] \n"
     ]
    }
   ],
   "source": [
    "users_auto_similarity = {}\n",
    "users_similarity_matrix = {}\n",
    "\n",
    "for user in tqdm(users[\"screen_name\"]):\n",
    "    with open(f\"./signature_matrices/signature_matrix_{user}.pkl\", \"rb\") as f:\n",
    "        signature_matrix = pickle.load(f)\n",
    "    # compute similarity between tweets\n",
    "    similarity_matrix = np.zeros((cols, cols))\n",
    "    for i in range(cols):\n",
    "        for j in range(cols):\n",
    "            similarity_matrix[i][j] = jaccard_similarity(set(signature_matrix[:,i]), set(signature_matrix[:,j]))\n",
    "    # get average similarity\n",
    "    similarity = np.mean(similarity_matrix)\n",
    "    users_auto_similarity[user] = similarity\n",
    "    users_similarity_matrix[user] = similarity_matrix"
   ]
  },
  {
   "attachments": {},
   "cell_type": "markdown",
   "metadata": {},
   "source": [
    "La idea de esto es la siguiente:\n",
    "\n",
    "1. Obtener una \"auto-similitud\" de Jaccard:\n",
    "   1. Para cada usuario, obtener su matriz minhash\n",
    "   2. Calcular la similitud de Jaccard de un usuario con si mismo como el promedio de sus similitudes\n",
    "   3. Esto debería entregar los usuarios más \"consistentes\"\n",
    "2. Tomar a los X usuarios más consistentens\n",
    "3. Calcular la similitud de Jaccard entre ellos a partir de muestras.\n",
    "4. Hacer 5 grupos de 5 usuarios similares cada uno."
   ]
  },
  {
   "cell_type": "code",
   "execution_count": 13,
   "metadata": {},
   "outputs": [
    {
     "data": {
      "text/html": [
       "<div>\n",
       "<style scoped>\n",
       "    .dataframe tbody tr th:only-of-type {\n",
       "        vertical-align: middle;\n",
       "    }\n",
       "\n",
       "    .dataframe tbody tr th {\n",
       "        vertical-align: top;\n",
       "    }\n",
       "\n",
       "    .dataframe thead th {\n",
       "        text-align: right;\n",
       "    }\n",
       "</style>\n",
       "<table border=\"1\" class=\"dataframe\">\n",
       "  <thead>\n",
       "    <tr style=\"text-align: right;\">\n",
       "      <th></th>\n",
       "      <th>auto_similarity</th>\n",
       "    </tr>\n",
       "  </thead>\n",
       "  <tbody>\n",
       "    <tr>\n",
       "      <th>count</th>\n",
       "      <td>31062.000000</td>\n",
       "    </tr>\n",
       "    <tr>\n",
       "      <th>mean</th>\n",
       "      <td>0.999971</td>\n",
       "    </tr>\n",
       "    <tr>\n",
       "      <th>std</th>\n",
       "      <td>0.005038</td>\n",
       "    </tr>\n",
       "    <tr>\n",
       "      <th>min</th>\n",
       "      <td>0.112022</td>\n",
       "    </tr>\n",
       "    <tr>\n",
       "      <th>25%</th>\n",
       "      <td>1.000000</td>\n",
       "    </tr>\n",
       "    <tr>\n",
       "      <th>50%</th>\n",
       "      <td>1.000000</td>\n",
       "    </tr>\n",
       "    <tr>\n",
       "      <th>75%</th>\n",
       "      <td>1.000000</td>\n",
       "    </tr>\n",
       "    <tr>\n",
       "      <th>max</th>\n",
       "      <td>1.000000</td>\n",
       "    </tr>\n",
       "  </tbody>\n",
       "</table>\n",
       "</div>"
      ],
      "text/plain": [
       "       auto_similarity\n",
       "count     31062.000000\n",
       "mean          0.999971\n",
       "std           0.005038\n",
       "min           0.112022\n",
       "25%           1.000000\n",
       "50%           1.000000\n",
       "75%           1.000000\n",
       "max           1.000000"
      ]
     },
     "execution_count": 13,
     "metadata": {},
     "output_type": "execute_result"
    }
   ],
   "source": [
    "users_auto_similarity.describe()"
   ]
  },
  {
   "attachments": {},
   "cell_type": "markdown",
   "metadata": {},
   "source": [
    "Y la estrategia no sirvió de mucho, ya que la amplia mayoría de los usuarios escriben parecido a ellos mismos, que en retrospectiva es algo obvio.\n",
    "\n",
    "Para poder obtener alguna conclusión a partir de estos datos, vamos a probar que ocurre si pasamos la matriz de similitud de cada usuario al dominio de las frecuencias y ver que tanto se parecen sus curvas."
   ]
  }
 ],
 "metadata": {
  "kernelspec": {
   "display_name": "Python 3",
   "language": "python",
   "name": "python3"
  },
  "language_info": {
   "codemirror_mode": {
    "name": "ipython",
    "version": 3
   },
   "file_extension": ".py",
   "mimetype": "text/x-python",
   "name": "python",
   "nbconvert_exporter": "python",
   "pygments_lexer": "ipython3",
   "version": "3.10.5"
  },
  "orig_nbformat": 4
 },
 "nbformat": 4,
 "nbformat_minor": 2
}
